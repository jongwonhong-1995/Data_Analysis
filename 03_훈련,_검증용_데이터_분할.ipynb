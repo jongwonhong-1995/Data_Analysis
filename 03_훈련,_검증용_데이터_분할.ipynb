{
  "nbformat": 4,
  "nbformat_minor": 0,
  "metadata": {
    "colab": {
      "name": "03. 훈련, 검증용 데이터 분할.ipynb",
      "provenance": [],
      "authorship_tag": "ABX9TyMb8LN+ui8AAsk4M/0cgR+Y"
    },
    "kernelspec": {
      "name": "python3",
      "display_name": "Python 3"
    },
    "language_info": {
      "name": "python"
    }
  },
  "cells": [
    {
      "cell_type": "markdown",
      "metadata": {
        "id": "ZsKAMFjcv9XE"
      },
      "source": [
        "# 머신러닝을 위한 데이터셋 분리\n",
        "\n",
        "+ 훈련 데이터는 모델을 fit하는데 사용하며, 검증 데이터는 예측 모델을 선택하기 위해 모델의 예측 오류를 측정할 때 사용함\n",
        "+ 테스트 데이터는 일반화 오류를 평가하기 위해 마지막에 단 한 번만 사용함"
      ]
    },
    {
      "cell_type": "code",
      "metadata": {
        "id": "5ziwDdo8vy_V"
      },
      "source": [
        "from sklearn.model_selection import train_test_split"
      ],
      "execution_count": 3,
      "outputs": []
    },
    {
      "cell_type": "code",
      "metadata": {
        "id": "q_-O9jSKxYup"
      },
      "source": [
        "import numpy as np\n",
        "import pandas as pd"
      ],
      "execution_count": 4,
      "outputs": []
    },
    {
      "cell_type": "code",
      "metadata": {
        "id": "jI_m7j9kxcQY"
      },
      "source": [
        "from sklearn.datasets import load_breast_cancer"
      ],
      "execution_count": 1,
      "outputs": []
    },
    {
      "cell_type": "code",
      "metadata": {
        "id": "CdaVWgzgDtfc"
      },
      "source": [
        "cancer = load_breast_cancer()"
      ],
      "execution_count": 2,
      "outputs": []
    },
    {
      "cell_type": "code",
      "metadata": {
        "id": "ZhW45A78Dw7C"
      },
      "source": [
        "cancer_x = pd.DataFrame(data = cancer.data, columns = cancer.feature_names)\n",
        "cancer_y = pd.DataFrame(data = cancer.target)"
      ],
      "execution_count": 8,
      "outputs": []
    },
    {
      "cell_type": "code",
      "metadata": {
        "colab": {
          "base_uri": "https://localhost:8080/",
          "height": 35
        },
        "id": "zXxjXbILDy88",
        "outputId": "a6d000bd-f270-4ff8-c2bd-42aa3edb151d"
      },
      "source": [
        "# 훈련데이터 세트 분할\n",
        "x_train, x_test, y_train, y_test = train_test_split(cancer_x, cancer_y, test_size = 0.2, random_state = 42, stratify = cancer_y)\n",
        "\n",
        "'''\n",
        "stratify 매개변수를 target으로 지정해주면\n",
        "각각의 class 비율(ratio)을 train / validation 데이터셋을\n",
        "나눌 때 유지함(한 쪽에 쏠려 분배되는 것을 방지함)\n",
        "층화 추출이라고도 함\n",
        "'''"
      ],
      "execution_count": 22,
      "outputs": [
        {
          "output_type": "execute_result",
          "data": {
            "application/vnd.google.colaboratory.intrinsic+json": {
              "type": "string"
            },
            "text/plain": [
              "'\\nstratify 매개변수를 target으로 지정해주면\\n각각의 class 비율(ratio)을 train / validation 데이터셋을\\n나눌 때 유지함(한 쪽에 쏠려 분배되는 것을 방지함)\\n층화 추출이라고도 함\\n'"
            ]
          },
          "metadata": {},
          "execution_count": 22
        }
      ]
    },
    {
      "cell_type": "code",
      "metadata": {
        "colab": {
          "base_uri": "https://localhost:8080/"
        },
        "id": "Tc8FGtnMFmy5",
        "outputId": "5aeb1a0a-ba50-4a6b-bbc8-7337e7c9d6f2"
      },
      "source": [
        "print('훈련 데이터 세트의 shape :', cancer_x.shape)\n",
        "print('훈련 세트 shape :', x_train.shape, '테스트 세트 shape :', x_test.shape)"
      ],
      "execution_count": 27,
      "outputs": [
        {
          "output_type": "stream",
          "name": "stdout",
          "text": [
            "훈련 데이터 세트의 shape : (569, 30)\n",
            "훈련 세트 shape : (455, 30) 테스트 세트 shape : (114, 30)\n"
          ]
        }
      ]
    }
  ]
}